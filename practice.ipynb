{
 "cells": [
  {
   "cell_type": "code",
   "execution_count": 10,
   "id": "91c13c0b",
   "metadata": {},
   "outputs": [
    {
     "name": "stdout",
     "output_type": "stream",
     "text": [
      "a+b=  50\n"
     ]
    },
    {
     "data": {
      "text/plain": [
       "int"
      ]
     },
     "execution_count": 10,
     "metadata": {},
     "output_type": "execute_result"
    }
   ],
   "source": [
    "a=5\n",
    "b=10\n",
    "c=a*b\n",
    "print(\"a+b= \",c)\n"
   ]
  },
  {
   "cell_type": "code",
   "execution_count": 20,
   "id": "aec1a565",
   "metadata": {
    "scrolled": true
   },
   "outputs": [
    {
     "name": "stdout",
     "output_type": "stream",
     "text": [
      "12ghghfjke45345hfgy5thdf\n"
     ]
    }
   ],
   "source": [
    "a = 123456789\n",
    "b = 13445.3434\n",
    "c = 3+4j\n",
    "d= \"12ghghfjke45345hfgy5thdf\"\n",
    "type(d)\n",
    "print (d)\n"
   ]
  },
  {
   "cell_type": "code",
   "execution_count": 27,
   "id": "c4378127",
   "metadata": {},
   "outputs": [
    {
     "name": "stdout",
     "output_type": "stream",
     "text": [
      "145\n"
     ]
    },
    {
     "data": {
      "text/plain": [
       "str"
      ]
     },
     "execution_count": 27,
     "metadata": {},
     "output_type": "execute_result"
    }
   ],
   "source": [
    "a= 1\n",
    "b=\"45\"\n",
    "a+int(b)\n",
    "f=str(a)+b\n",
    "print(f)\n",
    "type(f)"
   ]
  },
  {
   "cell_type": "code",
   "execution_count": 29,
   "id": "2ce5c9b9",
   "metadata": {},
   "outputs": [
    {
     "name": "stdout",
     "output_type": "stream",
     "text": [
      "tariq age is 100\n"
     ]
    }
   ],
   "source": [
    "a=20\n",
    "b=5\n",
    "c=a*b\n",
    "print(\"tariq age is\",c  )"
   ]
  },
  {
   "cell_type": "code",
   "execution_count": 3,
   "id": "6a8dce50",
   "metadata": {},
   "outputs": [],
   "source": [
    "a=10"
   ]
  },
  {
   "cell_type": "code",
   "execution_count": 60,
   "id": "f9ea24bf",
   "metadata": {},
   "outputs": [
    {
     "name": "stdout",
     "output_type": "stream",
     "text": [
      "-19.2\n"
     ]
    }
   ],
   "source": [
    "a = 12\n",
    "b = 36\n",
    "c = 2.5\n",
    "\n",
    "g = a+c*(a-b)\n",
    "d = g/c\n",
    "print(d)"
   ]
  },
  {
   "cell_type": "code",
   "execution_count": 62,
   "id": "2871197a",
   "metadata": {},
   "outputs": [
    {
     "name": "stdout",
     "output_type": "stream",
     "text": [
      "19.2\n"
     ]
    }
   ],
   "source": [
    "a = 2.5*24\n",
    "b = 48/2.5\n",
    "print (b)"
   ]
  },
  {
   "cell_type": "code",
   "execution_count": 45,
   "id": "10f761c0",
   "metadata": {},
   "outputs": [
    {
     "data": {
      "text/plain": [
       "10.0"
      ]
     },
     "execution_count": 45,
     "metadata": {},
     "output_type": "execute_result"
    }
   ],
   "source": [
    "a=123456789\n",
    "b=12.11+20.00\n",
    "c=10+5j\n",
    "d=\"my name is khan\"\n",
    "c.imag\n",
    "c.real"
   ]
  },
  {
   "cell_type": "code",
   "execution_count": 4,
   "id": "bf8a03d0",
   "metadata": {},
   "outputs": [
    {
     "name": "stdout",
     "output_type": "stream",
     "text": [
      "10\n"
     ]
    }
   ],
   "source": [
    "print (a)"
   ]
  },
  {
   "cell_type": "code",
   "execution_count": 51,
   "id": "1ae905f9",
   "metadata": {},
   "outputs": [
    {
     "name": "stdout",
     "output_type": "stream",
     "text": [
      "salman issdonkey\n"
     ]
    }
   ],
   "source": [
    "a=\"salman iss\" \n",
    "b=\"donkey\"\n",
    "\n",
    "print (a+b)"
   ]
  },
  {
   "cell_type": "code",
   "execution_count": 58,
   "id": "c1b63c13",
   "metadata": {},
   "outputs": [
    {
     "name": "stdout",
     "output_type": "stream",
     "text": [
      "3\n"
     ]
    }
   ],
   "source": [
    "a= True\n",
    "type(a)\n",
    "a=True+True+True-False\n",
    "print(a)"
   ]
  },
  {
   "cell_type": "code",
   "execution_count": 55,
   "id": "d1110ee5",
   "metadata": {},
   "outputs": [
    {
     "name": "stdout",
     "output_type": "stream",
     "text": [
      "atif is cashair\n"
     ]
    }
   ],
   "source": [
    "print ('atif is cashair')"
   ]
  },
  {
   "cell_type": "code",
   "execution_count": null,
   "id": "a4565926",
   "metadata": {},
   "outputs": [],
   "source": []
  },
  {
   "cell_type": "code",
   "execution_count": 5,
   "id": "93eba2e3",
   "metadata": {},
   "outputs": [
    {
     "data": {
      "text/plain": [
       "10"
      ]
     },
     "execution_count": 5,
     "metadata": {},
     "output_type": "execute_result"
    }
   ],
   "source": [
    "a"
   ]
  },
  {
   "cell_type": "code",
   "execution_count": 6,
   "id": "0d704dc0",
   "metadata": {},
   "outputs": [
    {
     "data": {
      "text/plain": [
       "int"
      ]
     },
     "execution_count": 6,
     "metadata": {},
     "output_type": "execute_result"
    }
   ],
   "source": [
    "type(a)"
   ]
  },
  {
   "cell_type": "code",
   "execution_count": 7,
   "id": "c5ebc05e",
   "metadata": {},
   "outputs": [],
   "source": [
    "b= \"345\""
   ]
  },
  {
   "cell_type": "code",
   "execution_count": 8,
   "id": "d2454454",
   "metadata": {},
   "outputs": [
    {
     "data": {
      "text/plain": [
       "355"
      ]
     },
     "execution_count": 8,
     "metadata": {},
     "output_type": "execute_result"
    }
   ],
   "source": [
    "d= a+ int(b)\n",
    "d"
   ]
  },
  {
   "cell_type": "code",
   "execution_count": 9,
   "id": "52ec6d11",
   "metadata": {},
   "outputs": [],
   "source": [
    "a,b,c,d=1,\"er\",34,\"rf\"\n"
   ]
  },
  {
   "cell_type": "code",
   "execution_count": 10,
   "id": "98d00e50",
   "metadata": {},
   "outputs": [
    {
     "data": {
      "text/plain": [
       "1"
      ]
     },
     "execution_count": 10,
     "metadata": {},
     "output_type": "execute_result"
    }
   ],
   "source": [
    "a\n"
   ]
  },
  {
   "cell_type": "code",
   "execution_count": 11,
   "id": "db5070fe",
   "metadata": {},
   "outputs": [
    {
     "data": {
      "text/plain": [
       "'rf'"
      ]
     },
     "execution_count": 11,
     "metadata": {},
     "output_type": "execute_result"
    }
   ],
   "source": [
    "d"
   ]
  },
  {
   "cell_type": "code",
   "execution_count": 12,
   "id": "7ba03d59",
   "metadata": {},
   "outputs": [
    {
     "name": "stdout",
     "output_type": "stream",
     "text": [
      "1 er 34 34 hy\n"
     ]
    }
   ],
   "source": [
    "print (a,b,c,34,\"hy\")\n"
   ]
  },
  {
   "cell_type": "code",
   "execution_count": 17,
   "id": "287aa069",
   "metadata": {},
   "outputs": [
    {
     "data": {
      "text/plain": [
       "str"
      ]
     },
     "execution_count": 17,
     "metadata": {},
     "output_type": "execute_result"
    }
   ],
   "source": [
    "type(d)\n",
    "\n",
    "k='er'\n"
   ]
  },
  {
   "cell_type": "code",
   "execution_count": 18,
   "id": "db8efca1",
   "metadata": {},
   "outputs": [
    {
     "data": {
      "text/plain": [
       "str"
      ]
     },
     "execution_count": 18,
     "metadata": {},
     "output_type": "execute_result"
    }
   ],
   "source": [
    "type(k)"
   ]
  },
  {
   "cell_type": "code",
   "execution_count": 19,
   "id": "1edfe95d",
   "metadata": {},
   "outputs": [
    {
     "name": "stdout",
     "output_type": "stream",
     "text": [
      "1\n"
     ]
    }
   ],
   "source": [
    "print (True+True-False-True)"
   ]
  },
  {
   "cell_type": "code",
   "execution_count": 20,
   "id": "82098c2a",
   "metadata": {},
   "outputs": [
    {
     "ename": "ZeroDivisionError",
     "evalue": "division by zero",
     "output_type": "error",
     "traceback": [
      "\u001b[1;31m---------------------------------------------------------------------------\u001b[0m",
      "\u001b[1;31mZeroDivisionError\u001b[0m                         Traceback (most recent call last)",
      "\u001b[1;32m<ipython-input-20-f64d1295bbce>\u001b[0m in \u001b[0;36m<module>\u001b[1;34m\u001b[0m\n\u001b[1;32m----> 1\u001b[1;33m \u001b[1;32mTrue\u001b[0m\u001b[1;33m/\u001b[0m\u001b[1;32mFalse\u001b[0m\u001b[1;33m\u001b[0m\u001b[1;33m\u001b[0m\u001b[0m\n\u001b[0m",
      "\u001b[1;31mZeroDivisionError\u001b[0m: division by zero"
     ]
    }
   ],
   "source": [
    "True/False\n"
   ]
  },
  {
   "cell_type": "code",
   "execution_count": 1,
   "id": "5b8f74e1",
   "metadata": {},
   "outputs": [],
   "source": [
    "a=\"harsiali\""
   ]
  },
  {
   "cell_type": "code",
   "execution_count": 4,
   "id": "753de471",
   "metadata": {},
   "outputs": [
    {
     "data": {
      "text/plain": [
       "'i'"
      ]
     },
     "execution_count": 4,
     "metadata": {},
     "output_type": "execute_result"
    }
   ],
   "source": [
    "a[-1:-2:-1]"
   ]
  },
  {
   "cell_type": "code",
   "execution_count": 30,
   "id": "aadcda20",
   "metadata": {},
   "outputs": [],
   "source": [
    "a=\" i am haris amjad ali \""
   ]
  },
  {
   "cell_type": "code",
   "execution_count": 31,
   "id": "ace50f27",
   "metadata": {},
   "outputs": [
    {
     "data": {
      "text/plain": [
       "' i am haris amjad ali '"
      ]
     },
     "execution_count": 31,
     "metadata": {},
     "output_type": "execute_result"
    }
   ],
   "source": [
    "a"
   ]
  },
  {
   "cell_type": "code",
   "execution_count": 10,
   "id": "49a2dbef",
   "metadata": {},
   "outputs": [
    {
     "data": {
      "text/plain": [
       "'i am haris amjad alii am haris amjad alii am haris amjad alii am haris amjad ali'"
      ]
     },
     "execution_count": 10,
     "metadata": {},
     "output_type": "execute_result"
    }
   ],
   "source": [
    "a*4"
   ]
  },
  {
   "cell_type": "code",
   "execution_count": 11,
   "id": "cb59b33b",
   "metadata": {},
   "outputs": [
    {
     "data": {
      "text/plain": [
       "20"
      ]
     },
     "execution_count": 11,
     "metadata": {},
     "output_type": "execute_result"
    }
   ],
   "source": [
    "len(a)"
   ]
  },
  {
   "cell_type": "code",
   "execution_count": 15,
   "id": "8da632b0",
   "metadata": {},
   "outputs": [
    {
     "data": {
      "text/plain": [
       "2"
      ]
     },
     "execution_count": 15,
     "metadata": {},
     "output_type": "execute_result"
    }
   ],
   "source": [
    "a."
   ]
  },
  {
   "cell_type": "code",
   "execution_count": 21,
   "id": "5a7c2c8c",
   "metadata": {},
   "outputs": [
    {
     "data": {
      "text/plain": [
       "list"
      ]
     },
     "execution_count": 21,
     "metadata": {},
     "output_type": "execute_result"
    }
   ],
   "source": [
    "type(a.split('m'))"
   ]
  },
  {
   "cell_type": "code",
   "execution_count": 25,
   "id": "aa1620be",
   "metadata": {},
   "outputs": [
    {
     "data": {
      "text/plain": [
       "'I Am Haris Amjad Ali'"
      ]
     },
     "execution_count": 25,
     "metadata": {},
     "output_type": "execute_result"
    }
   ],
   "source": [
    "a.title()"
   ]
  },
  {
   "cell_type": "code",
   "execution_count": 27,
   "id": "9af2a474",
   "metadata": {},
   "outputs": [
    {
     "data": {
      "text/plain": [
       "'iwhy whyawhymwhy whyhwhyawhyrwhyiwhyswhy whyawhymwhyjwhyawhydwhy whyawhylwhyi'"
      ]
     },
     "execution_count": 27,
     "metadata": {},
     "output_type": "execute_result"
    }
   ],
   "source": [
    "b=\"why\"\n",
    "b.join(a)"
   ]
  },
  {
   "cell_type": "code",
   "execution_count": 28,
   "id": "f6354fd6",
   "metadata": {},
   "outputs": [
    {
     "data": {
      "text/plain": [
       "'i am haris amjad ali'"
      ]
     },
     "execution_count": 28,
     "metadata": {},
     "output_type": "execute_result"
    }
   ],
   "source": [
    "a.strip()"
   ]
  },
  {
   "cell_type": "code",
   "execution_count": 34,
   "id": "4f4b4e34",
   "metadata": {},
   "outputs": [
    {
     "data": {
      "text/plain": [
       "'i am haris amjad ali'"
      ]
     },
     "execution_count": 34,
     "metadata": {},
     "output_type": "execute_result"
    }
   ],
   "source": [
    "a.strip()"
   ]
  },
  {
   "cell_type": "code",
   "execution_count": 35,
   "id": "c53d9bb1",
   "metadata": {},
   "outputs": [],
   "source": [
    "s = \"sudh\""
   ]
  },
  {
   "cell_type": "code",
   "execution_count": 38,
   "id": "e843edc7",
   "metadata": {},
   "outputs": [
    {
     "data": {
      "text/plain": [
       "'sudh'"
      ]
     },
     "execution_count": 38,
     "metadata": {},
     "output_type": "execute_result"
    }
   ],
   "source": [
    "s.replace(\"r\",\"rrr\")"
   ]
  },
  {
   "cell_type": "code",
   "execution_count": 39,
   "id": "4a9c6d06",
   "metadata": {},
   "outputs": [
    {
     "data": {
      "text/plain": [
       "'__________________sudh_________________'"
      ]
     },
     "execution_count": 39,
     "metadata": {},
     "output_type": "execute_result"
    }
   ],
   "source": [
    "s.center(39,\"+\")"
   ]
  },
  {
   "cell_type": "code",
   "execution_count": 42,
   "id": "c5580aaf",
   "metadata": {},
   "outputs": [
    {
     "data": {
      "text/plain": [
       "False"
      ]
     },
     "execution_count": 42,
     "metadata": {},
     "output_type": "execute_result"
    }
   ],
   "source": [
    "\n",
    "a.isspace()\n"
   ]
  },
  {
   "cell_type": "code",
   "execution_count": 41,
   "id": "f13796a5",
   "metadata": {},
   "outputs": [
    {
     "data": {
      "text/plain": [
       "False"
      ]
     },
     "execution_count": 41,
     "metadata": {},
     "output_type": "execute_result"
    }
   ],
   "source": [
    "a.isspace()"
   ]
  },
  {
   "cell_type": "code",
   "execution_count": 44,
   "id": "aa8e7766",
   "metadata": {},
   "outputs": [],
   "source": [
    "v= \" \"\n"
   ]
  },
  {
   "cell_type": "code",
   "execution_count": 45,
   "id": "cb54d83f",
   "metadata": {},
   "outputs": [
    {
     "data": {
      "text/plain": [
       "True"
      ]
     },
     "execution_count": 45,
     "metadata": {},
     "output_type": "execute_result"
    }
   ],
   "source": [
    "v.isspace()"
   ]
  },
  {
   "cell_type": "code",
   "execution_count": 54,
   "id": "b4e5ec08",
   "metadata": {},
   "outputs": [],
   "source": [
    "li= [\"jsirs\", 345, \"hy\", 345.54, 4+5j]"
   ]
  },
  {
   "cell_type": "code",
   "execution_count": 47,
   "id": "51bff00f",
   "metadata": {},
   "outputs": [
    {
     "data": {
      "text/plain": [
       "['jsirs', 345, 'hy', 345.54]"
      ]
     },
     "execution_count": 47,
     "metadata": {},
     "output_type": "execute_result"
    }
   ],
   "source": [
    "li"
   ]
  },
  {
   "cell_type": "code",
   "execution_count": 52,
   "id": "3e65a0d2",
   "metadata": {},
   "outputs": [
    {
     "data": {
      "text/plain": [
       "345.54"
      ]
     },
     "execution_count": 52,
     "metadata": {},
     "output_type": "execute_result"
    }
   ],
   "source": [
    "li[-1]"
   ]
  },
  {
   "cell_type": "code",
   "execution_count": 57,
   "id": "d2d10867",
   "metadata": {},
   "outputs": [
    {
     "data": {
      "text/plain": [
       "[345.54, 'hy']"
      ]
     },
     "execution_count": 57,
     "metadata": {},
     "output_type": "execute_result"
    }
   ],
   "source": [
    "li[-2:1:-1]"
   ]
  },
  {
   "cell_type": "code",
   "execution_count": 59,
   "id": "e38cdcde",
   "metadata": {},
   "outputs": [],
   "source": [
    "li[0]= \"haris\""
   ]
  },
  {
   "cell_type": "code",
   "execution_count": 60,
   "id": "0edcb847",
   "metadata": {},
   "outputs": [
    {
     "data": {
      "text/plain": [
       "['haris', 345, 'hy', 345.54, (4+5j)]"
      ]
     },
     "execution_count": 60,
     "metadata": {},
     "output_type": "execute_result"
    }
   ],
   "source": [
    "li\n"
   ]
  },
  {
   "cell_type": "raw",
   "id": "69de5d61",
   "metadata": {},
   "source": [
    "li[0][3]= \"h\""
   ]
  },
  {
   "cell_type": "markdown",
   "id": "8f1154cc",
   "metadata": {},
   "source": [
    "string is a immutable entity and list is a mutable entity\n"
   ]
  },
  {
   "cell_type": "code",
   "execution_count": 63,
   "id": "088aa3c6",
   "metadata": {},
   "outputs": [
    {
     "data": {
      "text/plain": [
       "'aaris'"
      ]
     },
     "execution_count": 63,
     "metadata": {},
     "output_type": "execute_result"
    }
   ],
   "source": [
    "li[0].replace('h','a')"
   ]
  },
  {
   "cell_type": "code",
   "execution_count": 64,
   "id": "ae42b2bd",
   "metadata": {},
   "outputs": [
    {
     "data": {
      "text/plain": [
       "True"
      ]
     },
     "execution_count": 64,
     "metadata": {},
     "output_type": "execute_result"
    }
   ],
   "source": [
    "'haris' in li"
   ]
  },
  {
   "cell_type": "code",
   "execution_count": 65,
   "id": "bb679a14",
   "metadata": {},
   "outputs": [],
   "source": [
    "li.append(\"why\")"
   ]
  },
  {
   "cell_type": "code",
   "execution_count": 66,
   "id": "4af4c968",
   "metadata": {},
   "outputs": [
    {
     "data": {
      "text/plain": [
       "['haris', 345, 'hy', 345.54, (4+5j), 'why']"
      ]
     },
     "execution_count": 66,
     "metadata": {},
     "output_type": "execute_result"
    }
   ],
   "source": [
    "li\n"
   ]
  },
  {
   "cell_type": "code",
   "execution_count": 71,
   "id": "293b0ca2",
   "metadata": {},
   "outputs": [
    {
     "data": {
      "text/plain": [
       "4545.432"
      ]
     },
     "execution_count": 71,
     "metadata": {},
     "output_type": "execute_result"
    }
   ],
   "source": [
    "li.pop(4)"
   ]
  },
  {
   "cell_type": "code",
   "execution_count": 68,
   "id": "048e77c8",
   "metadata": {},
   "outputs": [
    {
     "data": {
      "text/plain": [
       "['haris', 345, 'hy', (4+5j), 'why']"
      ]
     },
     "execution_count": 68,
     "metadata": {},
     "output_type": "execute_result"
    }
   ],
   "source": [
    "li"
   ]
  },
  {
   "cell_type": "code",
   "execution_count": 74,
   "id": "0a5fac44",
   "metadata": {},
   "outputs": [],
   "source": [
    "li.insert(3,[4545.432,4,34,534])"
   ]
  },
  {
   "cell_type": "code",
   "execution_count": 75,
   "id": "fa6a7352",
   "metadata": {},
   "outputs": [
    {
     "data": {
      "text/plain": [
       "['haris', 345, 'hy', [4545.432, 4, 34, 534], 4545.432, (4+5j), 'why']"
      ]
     },
     "execution_count": 75,
     "metadata": {},
     "output_type": "execute_result"
    }
   ],
   "source": [
    "li"
   ]
  },
  {
   "cell_type": "code",
   "execution_count": 76,
   "id": "7f14b2d7",
   "metadata": {},
   "outputs": [],
   "source": [
    "li[3].reverse()"
   ]
  },
  {
   "cell_type": "code",
   "execution_count": 77,
   "id": "0022cada",
   "metadata": {},
   "outputs": [
    {
     "data": {
      "text/plain": [
       "['haris', 345, 'hy', [534, 34, 4, 4545.432], 4545.432, (4+5j), 'why']"
      ]
     },
     "execution_count": 77,
     "metadata": {},
     "output_type": "execute_result"
    }
   ],
   "source": [
    "li"
   ]
  },
  {
   "cell_type": "code",
   "execution_count": 89,
   "id": "1003bf1f",
   "metadata": {},
   "outputs": [
    {
     "ename": "TypeError",
     "evalue": "must be str or None, not int",
     "output_type": "error",
     "traceback": [
      "\u001b[1;31m---------------------------------------------------------------------------\u001b[0m",
      "\u001b[1;31mTypeError\u001b[0m                                 Traceback (most recent call last)",
      "\u001b[1;32m<ipython-input-89-1e190607a745>\u001b[0m in \u001b[0;36m<module>\u001b[1;34m\u001b[0m\n\u001b[1;32m----> 1\u001b[1;33m \u001b[0ma\u001b[0m\u001b[1;33m.\u001b[0m\u001b[0mrsplit\u001b[0m\u001b[1;33m(\u001b[0m\u001b[1;36m2\u001b[0m\u001b[1;33m,\u001b[0m\u001b[1;33m-\u001b[0m\u001b[1;36m3\u001b[0m\u001b[1;33m)\u001b[0m\u001b[1;33m\u001b[0m\u001b[1;33m\u001b[0m\u001b[0m\n\u001b[0m",
      "\u001b[1;31mTypeError\u001b[0m: must be str or None, not int"
     ]
    }
   ],
   "source": [
    "a.rsplit(2,-3)"
   ]
  },
  {
   "cell_type": "code",
   "execution_count": null,
   "id": "0ac280cd",
   "metadata": {},
   "outputs": [],
   "source": []
  }
 ],
 "metadata": {
  "kernelspec": {
   "display_name": "Python 3",
   "language": "python",
   "name": "python3"
  },
  "language_info": {
   "codemirror_mode": {
    "name": "ipython",
    "version": 3
   },
   "file_extension": ".py",
   "mimetype": "text/x-python",
   "name": "python",
   "nbconvert_exporter": "python",
   "pygments_lexer": "ipython3",
   "version": "3.8.8"
  }
 },
 "nbformat": 4,
 "nbformat_minor": 5
}
